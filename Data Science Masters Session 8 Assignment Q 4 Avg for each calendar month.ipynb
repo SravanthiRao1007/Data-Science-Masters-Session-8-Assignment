{
 "cells": [
  {
   "cell_type": "code",
   "execution_count": 5,
   "metadata": {},
   "outputs": [
    {
     "name": "stderr",
     "output_type": "stream",
     "text": [
      "D:\\Anaconda\\lib\\site-packages\\ipykernel_launcher.py:9: FutureWarning: how in .resample() is deprecated\n",
      "the new syntax is .resample(...).mean()\n",
      "  if __name__ == '__main__':\n"
     ]
    },
    {
     "data": {
      "text/plain": [
       "2015-01-31    0.497173\n",
       "2015-02-28    0.474065\n",
       "2015-03-31    0.525828\n",
       "2015-04-30    0.570128\n",
       "2015-05-31    0.539313\n",
       "2015-06-30    0.593230\n",
       "2015-07-31    0.502332\n",
       "2015-08-31    0.411343\n",
       "2015-09-30    0.546806\n",
       "2015-10-31    0.603718\n",
       "2015-11-30    0.471023\n",
       "2015-12-31    0.408606\n",
       "Freq: M, dtype: float64"
      ]
     },
     "execution_count": 5,
     "metadata": {},
     "output_type": "execute_result"
    }
   ],
   "source": [
    "## Sravanthi Data Science Masters Assignment 8, Session 8 PANDAS Q4 Average For each calendar month\n",
    "\n",
    "import pandas as pd\n",
    "import numpy as np\n",
    "\n",
    "dti = pd.date_range(start='2015-01-01', end='2015-12-31', freq='B') \n",
    "s = pd.Series(np.random.rand(len(dti)), index=dti)\n",
    "\n",
    "s.resample('M', how='mean')\n"
   ]
  },
  {
   "cell_type": "code",
   "execution_count": null,
   "metadata": {},
   "outputs": [],
   "source": []
  },
  {
   "cell_type": "code",
   "execution_count": null,
   "metadata": {},
   "outputs": [],
   "source": []
  }
 ],
 "metadata": {
  "kernelspec": {
   "display_name": "Python 3",
   "language": "python",
   "name": "python3"
  },
  "language_info": {
   "codemirror_mode": {
    "name": "ipython",
    "version": 3
   },
   "file_extension": ".py",
   "mimetype": "text/x-python",
   "name": "python",
   "nbconvert_exporter": "python",
   "pygments_lexer": "ipython3",
   "version": "3.6.5"
  }
 },
 "nbformat": 4,
 "nbformat_minor": 2
}
